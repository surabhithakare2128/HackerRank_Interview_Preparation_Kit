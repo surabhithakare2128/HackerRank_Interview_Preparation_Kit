{
 "cells": [
  {
   "cell_type": "markdown",
   "metadata": {},
   "source": [
    "#### Problem\n",
    "John works at a clothing store. He has a large pile of socks that he must pair by color for sale. Given an array of integers representing the color of each sock, determine how many pairs of socks with matching colors there are.\n",
    "For example, there are  socks with colors . There is one pair of color  and one of color . There are three odd socks left, one of each color. The number of pairs is .\n",
    "\n",
    "#### Function Description\n",
    "Complete the sockMerchant function in the editor below. It must return an integer representing the number of matching pairs of socks that are available.\n",
    "\n",
    "sockMerchant has the following parameter(s):\n",
    "- n: the number of socks in the pile\n",
    "- ar: the colors of each sock\n",
    "\n",
    "#### Input Format\n",
    "The first line contains an integer , the number of socks represented in ar. \n",
    "The second line contains n space-separated integers describing the colors ar[i] of the socks in the pile.\n",
    "\n",
    "#### Constraints\n",
    "- 1 <= n <= 100\n",
    "- 1 <= ar[i] <= 100 where 0 <= i <= n\n",
    "\n",
    "#### Output Format\n",
    "Return the total number of matching pairs of socks that John can sell.\n",
    "\n",
    "#### Sample Input\n",
    "9\n",
    "\n",
    "10 20 20 10 10 30 50 10 20\n",
    "\n",
    "#### Sample Output\n",
    "3\n"
   ]
  },
  {
   "cell_type": "code",
   "execution_count": 3,
   "metadata": {},
   "outputs": [
    {
     "name": "stdout",
     "output_type": "stream",
     "text": [
      "9\n",
      "10 20 20 10 10 30 50 10 20\n",
      "3\n"
     ]
    }
   ],
   "source": [
    "#!/bin/python3\n",
    "\n",
    "import math\n",
    "import os\n",
    "import random\n",
    "import re\n",
    "import sys\n",
    "\n",
    "# Complete the sockMerchant function below.\n",
    "def sockMerchant(n, ar):\n",
    "    if len(ar) < 2:\n",
    "        return 0\n",
    "    b = set(ar)\n",
    "    z = []\n",
    "    actual = 0\n",
    "    for num in b:\n",
    "        count = ar.count(num)\n",
    "        z.append(count)\n",
    "    \n",
    "    for p in z:\n",
    "        pair = p//2\n",
    "        actual += pair\n",
    "    \n",
    "    return actual\n",
    "    \n",
    "\n",
    "if __name__ == '__main__':\n",
    "\n",
    "    n = int(input())\n",
    "\n",
    "    ar = list(map(int, input().rstrip().split()))\n",
    "\n",
    "    result = sockMerchant(n, ar)\n",
    "\n",
    "    print(result)"
   ]
  },
  {
   "cell_type": "code",
   "execution_count": null,
   "metadata": {},
   "outputs": [],
   "source": []
  }
 ],
 "metadata": {
  "kernelspec": {
   "display_name": "Python [default]",
   "language": "python",
   "name": "python3"
  },
  "language_info": {
   "codemirror_mode": {
    "name": "ipython",
    "version": 3
   },
   "file_extension": ".py",
   "mimetype": "text/x-python",
   "name": "python",
   "nbconvert_exporter": "python",
   "pygments_lexer": "ipython3",
   "version": "3.6.4"
  }
 },
 "nbformat": 4,
 "nbformat_minor": 2
}
