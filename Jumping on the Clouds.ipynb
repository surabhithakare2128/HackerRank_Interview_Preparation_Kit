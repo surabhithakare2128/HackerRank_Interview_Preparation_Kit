{
 "cells": [
  {
   "cell_type": "markdown",
   "metadata": {},
   "source": [
    "#### Problem\n",
    "Emma is playing a new mobile game that starts with consecutively numbered clouds. Some of the clouds are thunderheads and others are cumulus. She can jump on any cumulus cloud having a number that is equal to the number of the current cloud plus 1 or 2. She must avoid the thunderheads. Determine the minimum number of jumps it will take Emma to jump from her starting postion to the last cloud. It is always possible to win the game.\n",
    "For each game, Emma will get an array of clouds numbered o if they are safe or 1 if they must be avoided. For example, c=[0,1,0,0,0,1,0] indexed from 0...6. The number on each cloud is its index in the list so she must avoid the clouds at indexes 1 and 5. She could follow the following two paths: 0->2->4->6 or 0->2->3->4->6. The first path takes 3 jumps while the second takes 4.\n",
    "\n",
    "#### Function Description\n",
    "Complete the jumpingOnClouds function in the editor below. It should return the minimum number of jumps required, as an integer.\n",
    "\n",
    "jumpingOnClouds has the following parameter(s):\n",
    "- c: an array of binary integers\n",
    "\n",
    "#### Input Format\n",
    "The first line contains an integer n, the total number of clouds. The second line contains n space-separated binary integers describing clouds c[i] where 0 <= i < n.\n",
    "\n",
    "#### Constraints\n",
    "- 2 <= n <= 100\n",
    "- c[i] belonds to {01}\n",
    "- c[0] = c[n-1] = 0 \n",
    "\n",
    "#### Output Format\n",
    "Print the minimum number of jumps needed to win the game.\n",
    "\n",
    "#### Sample Input\n",
    "7\n",
    "\n",
    "0 0 1 0 0 1 0\n",
    "\n",
    "#### Sample Output\n",
    "4\n",
    "\n",
    "#### Solution 1:"
   ]
  },
  {
   "cell_type": "code",
   "execution_count": 8,
   "metadata": {},
   "outputs": [
    {
     "name": "stdout",
     "output_type": "stream",
     "text": [
      "100\n",
      "0 1 0 0 0 0 0 1 0 1 0 0 0 1 0 0 1 0 1 0 0 0 0 1 0 0 1 0 0 1 0 1 0 1 0 1 0 0 0 1 0 1 0 0 0 1 0 1 0 1 0 0 0 1 0 1 0 0 0 1 0 1 0 0 0 1 0 0 1 0 1 0 1 0 1 0 1 0 1 0 1 0 0 1 0 1 0 1 0 1 0 0 0 0 0 0 1 0 0 0\n",
      "53\n"
     ]
    }
   ],
   "source": [
    "#!/bin/python3\n",
    "\n",
    "import math\n",
    "import os\n",
    "import random\n",
    "import re\n",
    "import sys\n",
    "\n",
    "# Complete the jumpingOnClouds function below.\n",
    "def jumpingOnClouds(c):\n",
    "    jumps = 0\n",
    "    index = 0\n",
    "    if c[-2:] == [1,0]:\n",
    "        while index <= len(c)-2:\n",
    "            if c[index+2] == 0:\n",
    "                jumps += 1\n",
    "                index += 2\n",
    "            else:\n",
    "                jumps += 1\n",
    "                index += 1\n",
    "    elif c[-3:] == [0,0,0]:\n",
    "        while index < len(c)-2:\n",
    "            if c[index+2] == 0:\n",
    "                jumps += 1\n",
    "                index += 2\n",
    "            else:\n",
    "                jumps += 1\n",
    "                index += 1\n",
    "    else:\n",
    "        while index < len(c)-2:\n",
    "            if c[index+2] == 0:\n",
    "                jumps += 1\n",
    "                index += 2\n",
    "            else:\n",
    "                jumps += 1\n",
    "                index += 1\n",
    "        jumps +=1\n",
    "    return jumps\n",
    "\n",
    "if __name__ == '__main__':\n",
    "\n",
    "    n = int(input())\n",
    "\n",
    "    c = list(map(int, input().rstrip().split()))\n",
    "\n",
    "    result = jumpingOnClouds(c)\n",
    "\n",
    "    print(result)"
   ]
  },
  {
   "cell_type": "markdown",
   "metadata": {},
   "source": [
    "#### Solution 2:"
   ]
  },
  {
   "cell_type": "code",
   "execution_count": 12,
   "metadata": {},
   "outputs": [
    {
     "name": "stdout",
     "output_type": "stream",
     "text": [
      "100\n",
      "0 1 0 0 0 0 0 1 0 1 0 0 0 1 0 0 1 0 1 0 0 0 0 1 0 0 1 0 0 1 0 1 0 1 0 1 0 0 0 1 0 1 0 0 0 1 0 1 0 1 0 0 0 1 0 1 0 0 0 1 0 1 0 0 0 1 0 0 1 0 1 0 1 0 1 0 1 0 1 0 1 0 0 1 0 1 0 1 0 1 0 0 0 0 0 0 1 0 0 0\n",
      "53\n"
     ]
    }
   ],
   "source": [
    "#!/bin/python3\n",
    "\n",
    "import math\n",
    "import os\n",
    "import random\n",
    "import re\n",
    "import sys\n",
    "\n",
    "# Complete the jumpingOnClouds function below.\n",
    "def jumpingOnClouds(c):\n",
    "    count=0\n",
    "    i=0\n",
    "    while(i < len(c)-1):\n",
    "        if(i+2 < len(c) and c[i+2] != 1):\n",
    "            count += 1\n",
    "            i=i+2\n",
    "        \n",
    "        else:\n",
    "            count += 1\n",
    "            i += 1\n",
    "    return count\n",
    "\n",
    "if __name__ == '__main__':\n",
    "\n",
    "    n = int(input())\n",
    "\n",
    "    c = list(map(int, input().rstrip().split()))\n",
    "\n",
    "    result = jumpingOnClouds(c)\n",
    "\n",
    "    print(result)"
   ]
  },
  {
   "cell_type": "code",
   "execution_count": null,
   "metadata": {},
   "outputs": [],
   "source": []
  }
 ],
 "metadata": {
  "kernelspec": {
   "display_name": "Python [default]",
   "language": "python",
   "name": "python3"
  },
  "language_info": {
   "codemirror_mode": {
    "name": "ipython",
    "version": 3
   },
   "file_extension": ".py",
   "mimetype": "text/x-python",
   "name": "python",
   "nbconvert_exporter": "python",
   "pygments_lexer": "ipython3",
   "version": "3.6.4"
  }
 },
 "nbformat": 4,
 "nbformat_minor": 2
}
